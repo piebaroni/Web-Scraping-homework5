{
 "cells": [
  {
   "cell_type": "code",
   "execution_count": 2,
   "id": "41cd9798",
   "metadata": {},
   "outputs": [],
   "source": [
    "from bs4 import BeautifulSoup\n",
    "import requests\n",
    "from lxml import etree\n",
    "\n",
    "headers = {\n",
    "    'Access-Control-Allow-Origin': '*',\n",
    "    'Access-Control-Allow-Methods': 'GET',\n",
    "    'Access-Control-Allow-Headers': 'Content-Type',\n",
    "    'Access-Control-Max-Age': '3600',\n",
    "    'User-Agent': 'Mozilla/5.0 (X11; Ubuntu; Linux x86_64; rv:52.0) Gecko/20100101 Firefox/52.0'\n",
    "    }"
   ]
  },
  {
   "cell_type": "code",
   "execution_count": 20,
   "id": "c8d01f19",
   "metadata": {},
   "outputs": [],
   "source": [
    "url = 'https://ariregister.rik.ee'\n",
    "req = requests.get(url + '/eng/company_search_result/3cfdaec?name_or_code=ltd&page=1', headers)\n",
    "soup = BeautifulSoup(req.content, 'html.parser')\n",
    "dom = etree.HTML(str(soup))\n",
    "import re"
   ]
  },
  {
   "cell_type": "code",
   "execution_count": 31,
   "id": "15ae1d57",
   "metadata": {},
   "outputs": [],
   "source": [
    "def get_info(url):\n",
    "    req = requests.get(url, headers)\n",
    "    soup = BeautifulSoup(req.content, 'html.parser')\n",
    "    dom = etree.HTML(str(soup))\n",
    "    \n",
    "    #Company name\n",
    "    name = dom.xpath('//div[@class = \"h2 text-primary mb-2\"]')[0].text\n",
    "    name = name.replace(' ', '')\n",
    "    name = name.replace('\\n', '')\n",
    "    print(name)\n",
    "    \n",
    "    #Legal form\n",
    "    print(dom.xpath('//div[text() = \"Legal form\"]/../div[2]')[0].text)\n",
    "    \n",
    "    #Capital\n",
    "    capital = dom.xpath('//div[text() = \"Capital\"]/../div[2]')[0].text\n",
    "    capital = capital.replace(' ', '')\n",
    "    capital = capital.replace('\\n', '')\n",
    "    print(capital)\n",
    "    \n",
    "    #CONTINUARE"
   ]
  },
  {
   "cell_type": "code",
   "execution_count": 32,
   "id": "e3b4d981",
   "metadata": {},
   "outputs": [
    {
     "name": "stdout",
     "output_type": "stream",
     "text": [
      "OÜ20200202ABOyLtd(14904840)\n",
      "Private limited company\n",
      "Capitalis2 500 €\n",
      "2\n",
      "2RedLightsOÜ(14081663)\n",
      "Private limited company\n",
      "Capitalis2 500 €\n",
      "2\n",
      "4NatureEnergyLtdOÜ(14521197)\n",
      "Private limited company\n",
      "Capitalis2 500 €\n",
      "2\n",
      "ACorporationLTDOÜ(14592694)\n",
      "Private limited company\n",
      "Capitalis2 500 €\n",
      "2\n",
      "ACQFinancialProcessingLtdOÜ(14743986)\n",
      "Private limited company\n",
      "Capitalis2 500 €\n",
      "2\n",
      "AdvertisingAppsLtdOÜ(16300785)\n",
      "Private limited company\n",
      "Capitalis2 500 €\n",
      "2\n",
      "AENXPlatformLtdOÜ(14549646)\n",
      "Private limited company\n",
      "Capitalis2 500 €\n",
      "2\n",
      "A.KInformationServicesLTDOÜ(14009482)\n",
      "Private limited company\n",
      "Capitalis2 500 €\n",
      "2\n",
      "AlconPharmaceuticalsLtd.Eestifiliaal(11152813)\n",
      "Branch of a foreign company\n"
     ]
    },
    {
     "ename": "IndexError",
     "evalue": "list index out of range",
     "output_type": "error",
     "traceback": [
      "\u001b[1;31m---------------------------------------------------------------------------\u001b[0m",
      "\u001b[1;31mIndexError\u001b[0m                                Traceback (most recent call last)",
      "Cell \u001b[1;32mIn [32], line 15\u001b[0m\n\u001b[0;32m     13\u001b[0m     \u001b[38;5;28;01mfor\u001b[39;00m link \u001b[38;5;129;01min\u001b[39;00m links:\n\u001b[0;32m     14\u001b[0m         url2 \u001b[38;5;241m=\u001b[39m url \u001b[38;5;241m+\u001b[39m link\n\u001b[1;32m---> 15\u001b[0m         get_info(url2)\n\u001b[0;32m     16\u001b[0m         b \u001b[38;5;241m+\u001b[39m\u001b[38;5;241m=\u001b[39m \u001b[38;5;241m1\u001b[39m\n\u001b[0;32m     17\u001b[0m \u001b[38;5;28mprint\u001b[39m(b)\n",
      "Cell \u001b[1;32mIn [31], line 16\u001b[0m, in \u001b[0;36mget_info\u001b[1;34m(url)\u001b[0m\n\u001b[0;32m     13\u001b[0m \u001b[38;5;28mprint\u001b[39m(dom\u001b[38;5;241m.\u001b[39mxpath(\u001b[38;5;124m'\u001b[39m\u001b[38;5;124m//div[text() = \u001b[39m\u001b[38;5;124m\"\u001b[39m\u001b[38;5;124mLegal form\u001b[39m\u001b[38;5;124m\"\u001b[39m\u001b[38;5;124m]/../div[2]\u001b[39m\u001b[38;5;124m'\u001b[39m)[\u001b[38;5;241m0\u001b[39m]\u001b[38;5;241m.\u001b[39mtext)\n\u001b[0;32m     15\u001b[0m \u001b[38;5;66;03m#Capital\u001b[39;00m\n\u001b[1;32m---> 16\u001b[0m text \u001b[38;5;241m=\u001b[39m \u001b[43mdom\u001b[49m\u001b[38;5;241;43m.\u001b[39;49m\u001b[43mxpath\u001b[49m\u001b[43m(\u001b[49m\u001b[38;5;124;43m'\u001b[39;49m\u001b[38;5;124;43m//div[text() = \u001b[39;49m\u001b[38;5;124;43m\"\u001b[39;49m\u001b[38;5;124;43mCapital\u001b[39;49m\u001b[38;5;124;43m\"\u001b[39;49m\u001b[38;5;124;43m]/../div[2]\u001b[39;49m\u001b[38;5;124;43m'\u001b[39;49m\u001b[43m)\u001b[49m\u001b[43m[\u001b[49m\u001b[38;5;241;43m0\u001b[39;49m\u001b[43m]\u001b[49m\u001b[38;5;241m.\u001b[39mtext\n\u001b[0;32m     17\u001b[0m text \u001b[38;5;241m=\u001b[39m text\u001b[38;5;241m.\u001b[39mreplace(\u001b[38;5;124m'\u001b[39m\u001b[38;5;124m \u001b[39m\u001b[38;5;124m'\u001b[39m, \u001b[38;5;124m'\u001b[39m\u001b[38;5;124m'\u001b[39m)\n\u001b[0;32m     18\u001b[0m text \u001b[38;5;241m=\u001b[39m text\u001b[38;5;241m.\u001b[39mreplace(\u001b[38;5;124m'\u001b[39m\u001b[38;5;130;01m\\n\u001b[39;00m\u001b[38;5;124m'\u001b[39m, \u001b[38;5;124m'\u001b[39m\u001b[38;5;124m'\u001b[39m)\n",
      "\u001b[1;31mIndexError\u001b[0m: list index out of range"
     ]
    }
   ],
   "source": [
    "links = dom.xpath('//td/div/a/@href')\n",
    "\n",
    "b = 0\n",
    "url = 'https://ariregister.rik.ee'  \n",
    "for x in range(1, 2):\n",
    "    if (b >= 1000): \n",
    "        break\n",
    "    url2 = url + '/eng/company_search_result/3cfdaec?name_or_code=ltd&page=' + str(x)\n",
    "    req = requests.get(url2, headers)\n",
    "    soup = BeautifulSoup(req.content, 'html.parser')\n",
    "    dom = etree.HTML(str(soup))\n",
    "    links = dom.xpath('//td/div/a/@href')\n",
    "    for link in links:\n",
    "        url2 = url + link\n",
    "        get_info(url2)\n",
    "        b += 1\n",
    "print(b)"
   ]
  },
  {
   "cell_type": "code",
   "execution_count": null,
   "id": "9b68e69a",
   "metadata": {},
   "outputs": [],
   "source": []
  }
 ],
 "metadata": {
  "kernelspec": {
   "display_name": "Python 3 (ipykernel)",
   "language": "python",
   "name": "python3"
  },
  "language_info": {
   "codemirror_mode": {
    "name": "ipython",
    "version": 3
   },
   "file_extension": ".py",
   "mimetype": "text/x-python",
   "name": "python",
   "nbconvert_exporter": "python",
   "pygments_lexer": "ipython3",
   "version": "3.10.7"
  }
 },
 "nbformat": 4,
 "nbformat_minor": 5
}

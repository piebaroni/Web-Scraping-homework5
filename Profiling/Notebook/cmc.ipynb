{
 "cells": [
  {
   "cell_type": "markdown",
   "id": "c186a458",
   "metadata": {},
   "source": [
    "# Import librerie e definizione funzioni d'utilità"
   ]
  },
  {
   "cell_type": "code",
   "execution_count": null,
   "id": "dd9f51ca",
   "metadata": {},
   "outputs": [],
   "source": [
    "import functions as fn"
   ]
  },
  {
   "cell_type": "code",
   "execution_count": null,
   "id": "ff7a9d4d",
   "metadata": {},
   "outputs": [],
   "source": [
    "import pandas as pd\n",
    "import numpy as np\n",
    "import os\n",
    "from itertools import combinations\n",
    "from upsetplot import generate_counts\n",
    "from upsetplot import plot\n",
    "from matplotlib import pyplot\n",
    "from upsetplot import from_memberships\n",
    "import ast"
   ]
  },
  {
   "cell_type": "code",
   "execution_count": null,
   "id": "b4809838",
   "metadata": {},
   "outputs": [],
   "source": [
    "dataset_name = \"cmc\"\n",
    "if not os.path.exists(\"..\\\\Plot\"):\n",
    "    os.mkdir(\"..\\\\Plot\")\n",
    "if not os.path.exists(\"..\\\\Plot\\\\\" + dataset_name):\n",
    "    os.mkdir(\"..\\\\Plot\\\\\" + dataset_name)\n",
    "if not os.path.exists(\"..\\\\Plot\\\\\" + dataset_name + \"\\\\tempi\"):\n",
    "    os.mkdir(\"..\\\\Plot\\\\\" + dataset_name + \"\\\\tempi\")\n",
    "if not os.path.exists(\"..\\\\Plot\\\\\" + dataset_name + \"\\\\venn\"):\n",
    "    os.mkdir(\"..\\\\Plot\\\\\" + dataset_name + \"\\\\venn\")\n",
    "if not os.path.exists(\"..\\\\DatasetParsed\"):\n",
    "    os.mkdir(\"..\\\\DatasetParsed\")\n",
    "if not os.path.exists(\"..\\\\DatasetParsed\\\\\" + dataset_name):\n",
    "    os.mkdir(\"..\\\\DatasetParsed\\\\\" + dataset_name)"
   ]
  },
  {
   "cell_type": "code",
   "execution_count": null,
   "id": "753d6550",
   "metadata": {},
   "outputs": [],
   "source": [
    "counter = 0\n",
    "def make_path(dataset, file_name, other = \"\"):\n",
    "    global counter\n",
    "    counter += 1\n",
    "    return \"..\\\\Plot\\\\\" + dataset + \"\\\\\" + other + str(counter) + \"-\" + file_name"
   ]
  },
  {
   "cell_type": "markdown",
   "id": "84756a60",
   "metadata": {},
   "source": [
    "# Estrazione dati tabella aziende"
   ]
  },
  {
   "cell_type": "code",
   "execution_count": null,
   "id": "e7b71a6d",
   "metadata": {},
   "outputs": [],
   "source": [
    "dataset_cmc_aziende = \"..\\\\Datasets\\\\\" + dataset_name + \"\\\\cmc-aziende-dataset.csv\"\n",
    "df_a_cmc = pd.read_csv(dataset_cmc_aziende, encoding='cp1252')\n",
    "df_time = df_a_cmc[[\"URL\", \"Tempo request\", \"Tempo estrazione Name\", \"Tempo estrazione CC\", \"Tempo estrazione marketcap\", \"Tempo estrazione Share price\", \"Tempo estrazione Revenue/Earnings\", \"Tempo estrazione Shares\", \"Tempo estrazione Categories\"]] \n",
    "df_a_cmc = df_a_cmc[[\"URL\", \"ID\", \"Name\", \"Company code\", \"Marketcap\", \"Share price\", \"Earnings\", \"Revenue\", \"Shares\", \"Employees\"]]\n",
    "print(\"Numero entry tabella originale: \", len(df_a_cmc))"
   ]
  },
  {
   "cell_type": "code",
   "execution_count": null,
   "id": "1c0b2f55",
   "metadata": {},
   "outputs": [],
   "source": [
    "def convert_price_type(x):\n",
    "    M = 10e6\n",
    "    B = 10e9\n",
    "    T = 10e12\n",
    "    if type(x) == str:\n",
    "        x = x.replace(\"$\", \"\")\n",
    "        x = x.replace(\",\", \"\")\n",
    "        if \"M\" in x:\n",
    "            x = x.replace(\"M\", \"\")\n",
    "            x = float(x) * M\n",
    "        elif \"B\" in x:\n",
    "            x = x.replace(\"B\", \"\")\n",
    "            x = float(x) * B\n",
    "        elif \"T\" in x:\n",
    "            x = x.replace(\"T\", \"\")\n",
    "            x = float(x) * T\n",
    "    return float(x)\n",
    "\n",
    "def convert_number_type(x):\n",
    "    if type(x) == str:\n",
    "        x = x.replace(\".\", \"\")\n",
    "    return float(x)"
   ]
  },
  {
   "cell_type": "code",
   "execution_count": null,
   "id": "d7a420b1",
   "metadata": {},
   "outputs": [],
   "source": [
    "df_a_cmc['Marketcap'] = df_a_cmc['Marketcap'].apply(convert_price_type)\n",
    "df_a_cmc['Share price'] = df_a_cmc['Share price'].apply(convert_price_type)\n",
    "df_a_cmc['Earnings'] = df_a_cmc['Earnings'].apply(convert_price_type)\n",
    "df_a_cmc['Revenue'] = df_a_cmc['Revenue'].apply(convert_price_type)\n",
    "df_a_cmc['Shares'] = df_a_cmc['Shares'].apply(convert_number_type).astype('Int64')\n",
    "df_a_cmc['Employees'] = df_a_cmc['Employees'].apply(convert_number_type).astype('Int64')\n",
    "df_a_cmc.to_csv(\"..\\\\DatasetParsed\\\\\" + dataset_name + \"\\\\\" + dataset_name + \"-aziende.csv\", index=False)\n",
    "df_a_cmc.head()"
   ]
  },
  {
   "cell_type": "code",
   "execution_count": null,
   "id": "d849fcee",
   "metadata": {},
   "outputs": [],
   "source": [
    "info_dataset = fn.extract_data_from_df(df_a_cmc)\n",
    "display(pd.DataFrame(info_dataset, index=[\"valore\"]).T)"
   ]
  },
  {
   "cell_type": "markdown",
   "id": "9b1b3916",
   "metadata": {},
   "source": [
    "### Statistiche celle"
   ]
  },
  {
   "cell_type": "code",
   "execution_count": null,
   "id": "42bab6ab",
   "metadata": {},
   "outputs": [],
   "source": [
    "keys = [\"celle totali\", \"celle nulle\"]\n",
    "values = [\n",
    "    info_dataset[\"numero celle\"], \n",
    "    info_dataset[\"numero celle nulle\"]\n",
    "]\n",
    "title = \"Confronto numero celle totali e vuote\"\n",
    "file_name = \"\".join(title.lower()).replace(\" \", \"_\")\n",
    "dim = (7,4)\n",
    "fn.bar_plot(keys, values, title, make_path(dataset_name, file_name), dim)"
   ]
  },
  {
   "cell_type": "code",
   "execution_count": null,
   "id": "7f887b1a",
   "metadata": {},
   "outputs": [],
   "source": [
    "keys = [\"celle totali\", \"celle str\", \"celle float\", \"celle int\"]\n",
    "values = [\n",
    "    info_dataset[\"numero celle\"], \n",
    "    info_dataset[\"numero celle str\"],\n",
    "    info_dataset[\"numero celle float\"],\n",
    "    info_dataset[\"numero celle int\"]\n",
    "]\n",
    "title = \"Confronto tipo celle\"\n",
    "file_name = \"\".join(title.lower()).replace(\" \", \"_\")\n",
    "dim = (7,4)\n",
    "fn.bar_plot(keys, values, title, make_path(dataset_name, file_name), dim)"
   ]
  },
  {
   "cell_type": "markdown",
   "id": "04d01650",
   "metadata": {},
   "source": [
    "### Statistiche righe"
   ]
  },
  {
   "cell_type": "code",
   "execution_count": null,
   "id": "abae6921",
   "metadata": {},
   "outputs": [],
   "source": [
    "keys = [\"righe totali\", \"righe con celle nulle\"]\n",
    "values = [\n",
    "    info_dataset[\"numero righe\"], \n",
    "    info_dataset[\"numero righe con celle nulle\"]\n",
    "]\n",
    "title = \"Confronto numero righe totali e nulle\"\n",
    "file_name = \"\".join(title.lower()).replace(\" \", \"_\")\n",
    "dim = (7,4)\n",
    "fn.bar_plot(keys, values, title, make_path(dataset_name, file_name), dim)"
   ]
  },
  {
   "cell_type": "markdown",
   "id": "a7330610",
   "metadata": {},
   "source": [
    "### Statistiche colonne"
   ]
  },
  {
   "cell_type": "code",
   "execution_count": null,
   "id": "8ccdac41",
   "metadata": {},
   "outputs": [],
   "source": [
    "keys = [\"colonne totali\", \"colonne con celle nulle\"]\n",
    "values = [\n",
    "    info_dataset[\"numero colonne\"], \n",
    "    info_dataset[\"numero colonne con celle nulle\"]\n",
    "]\n",
    "title = \"Confronto numero colonne totali e nulle\"\n",
    "file_name = \"\".join(title.lower()).replace(\" \", \"_\")\n",
    "dim = (7,4)\n",
    "fn.bar_plot(keys, values, title, make_path(dataset_name, file_name), dim)"
   ]
  },
  {
   "cell_type": "code",
   "execution_count": null,
   "id": "1e0f5427",
   "metadata": {},
   "outputs": [],
   "source": [
    "keys = [\"colonne totali\", \"colonne str\", \"colonne float\", \"colonne int\"]\n",
    "values = [\n",
    "    info_dataset[\"numero colonne\"], \n",
    "    info_dataset[\"numero colonne str\"],\n",
    "    info_dataset[\"numero colonne float\"],\n",
    "    info_dataset[\"numero colonne int\"]\n",
    "]\n",
    "title = \"Confronto tipo colonne\"\n",
    "file_name = \"\".join(title.lower()).replace(\" \", \"_\")\n",
    "dim = (7,4)\n",
    "fn.bar_plot(keys, values, title, make_path(dataset_name, file_name), dim)"
   ]
  },
  {
   "cell_type": "code",
   "execution_count": null,
   "id": "a96c8f48",
   "metadata": {},
   "outputs": [],
   "source": [
    "different_value_columns = {}\n",
    "for key in df_a_cmc:\n",
    "    different_value_columns[key] = [len(pd.unique(df_a_cmc[key])), df_a_cmc[key].isnull().sum()]\n",
    "different_value_columns = dict(sorted(different_value_columns.items(), key=lambda item: item[1], reverse=True))"
   ]
  },
  {
   "cell_type": "code",
   "execution_count": null,
   "id": "cd5d6f0e",
   "metadata": {},
   "outputs": [],
   "source": [
    "keys = different_value_columns.keys()\n",
    "values = [item[0] for item in different_value_columns.values()]\n",
    "title = \"Numero di valori distinti per colonna\"\n",
    "file_name = \"\".join(title.lower()).replace(\" \", \"_\")\n",
    "dim = (8,4)\n",
    "fn.bar_plot(keys, values, title, make_path(dataset_name, file_name), dim, True, info_dataset[\"numero righe\"])"
   ]
  },
  {
   "cell_type": "code",
   "execution_count": null,
   "id": "ea08bb9e",
   "metadata": {},
   "outputs": [],
   "source": [
    "keys = different_value_columns.keys()\n",
    "values = [item[1] for item in different_value_columns.values()]\n",
    "title = \"Numero di valori nulli per colonna\"\n",
    "file_name = \"\".join(title.lower()).replace(\" \", \"_\")\n",
    "dim = (8,4)\n",
    "fn.bar_plot(keys, values, title, make_path(dataset_name, file_name), dim, True, info_dataset[\"numero righe\"])"
   ]
  },
  {
   "cell_type": "markdown",
   "id": "33c89dfe",
   "metadata": {},
   "source": [
    "##### Pulizia righe nulle per analisi numerica"
   ]
  },
  {
   "cell_type": "code",
   "execution_count": null,
   "id": "ac2224d5",
   "metadata": {},
   "outputs": [],
   "source": [
    "df_clean = df_a_cmc[df_a_cmc['Marketcap'].isnull() == False]\n",
    "df_clean = df_clean[df_clean['Share price'].isnull() == False]\n",
    "df_clean = df_clean[df_clean['Earnings'].isnull() == False]\n",
    "df_clean = df_clean[df_clean['Revenue'].isnull() == False]\n",
    "df_clean = df_clean[df_clean['Shares'].isnull() == False]\n",
    "df_clean = df_clean[df_clean['Employees'].isnull() == False]\n",
    "print(\"Numero entry tabella dopo pulizia: \", len(df_clean))"
   ]
  },
  {
   "cell_type": "code",
   "execution_count": null,
   "id": "43215867",
   "metadata": {},
   "outputs": [],
   "source": [
    "df_clean.describe()"
   ]
  },
  {
   "cell_type": "code",
   "execution_count": null,
   "id": "a989737e",
   "metadata": {},
   "outputs": [],
   "source": [
    "for key in [\"Marketcap\", \"Share price\", \"Earnings\", \"Revenue\", \"Shares\", \"Employees\"]:\n",
    "    y = sorted(list(df_clean[key]), reverse=True)\n",
    "    x = range(0,len(y))\n",
    "    x_label = \"Aziende\"\n",
    "    y_label = key\n",
    "    title = \"Distribuzione \" + key + \" per azienda\"\n",
    "    file_name = \"\".join(title.lower()).replace(\" \", \"_\")\n",
    "    dim = (15,4)\n",
    "    fn.distribution_plot(x, y, x_label, y_label, title, make_path(dataset_name, file_name), dim)"
   ]
  },
  {
   "cell_type": "markdown",
   "id": "233903d9",
   "metadata": {},
   "source": [
    "# Estrazione dati tabella categorie"
   ]
  },
  {
   "cell_type": "code",
   "execution_count": null,
   "id": "be0b80ec",
   "metadata": {},
   "outputs": [],
   "source": [
    "dataset_cmc_categorie = \"..\\\\Datasets\\\\\" + dataset_name + \"\\\\cmc-categorie-dataset.csv\"\n",
    "df_c_cmc = pd.read_csv(dataset_cmc_categorie, encoding='cp1252')\n",
    "print(\"Numero entry tabella originale: \", len(df_c_cmc))\n",
    "print(\"L'azienda che ha più categorie ne conta: \", max(df_c_cmc[\"Company ID\"].value_counts()))"
   ]
  },
  {
   "cell_type": "code",
   "execution_count": null,
   "id": "a1946e50",
   "metadata": {},
   "outputs": [],
   "source": [
    "df_c_cmc.head()"
   ]
  },
  {
   "cell_type": "code",
   "execution_count": null,
   "id": "275d8b73",
   "metadata": {},
   "outputs": [],
   "source": [
    "info_dataset = fn.extract_data_from_df(df_c_cmc)\n",
    "display(pd.DataFrame(info_dataset, index=[\"valore\"]).T)"
   ]
  },
  {
   "cell_type": "code",
   "execution_count": null,
   "id": "7191f174",
   "metadata": {},
   "outputs": [],
   "source": [
    "distinct_dict = {}\n",
    "category = pd.unique(df_c_cmc[\"Category\"])\n",
    "for k in category:\n",
    "    distinct_dict[k] = df_c_cmc[\"Category\"].str.count(k).sum()\n",
    "distinct_dict = dict(sorted(distinct_dict.items(), key=lambda item: item[1], reverse=True))"
   ]
  },
  {
   "cell_type": "code",
   "execution_count": null,
   "id": "7b5f3767",
   "metadata": {},
   "outputs": [],
   "source": [
    "keys = distinct_dict.keys()\n",
    "values = [item for item in distinct_dict.values()]\n",
    "title = \"Numero di aziende per categoria\"\n",
    "file_name = \"\".join(title.lower()).replace(\" \", \"_\")\n",
    "dim = (30,5)\n",
    "fn.bar_plot_ex(keys, values, title, make_path(dataset_name, file_name), dim)"
   ]
  },
  {
   "cell_type": "markdown",
   "id": "c04c6015",
   "metadata": {},
   "source": [
    "##### Diagrammi di Venn"
   ]
  },
  {
   "cell_type": "code",
   "execution_count": null,
   "id": "acf12445",
   "metadata": {},
   "outputs": [],
   "source": [
    "distinct_dict = {}\n",
    "category = pd.unique(df_c_cmc[\"Category\"])\n",
    "for k in category:\n",
    "    tmp = df_c_cmc[df_c_cmc[\"Category\"].str.contains(k)]\n",
    "    distinct_dict[k] = list(tmp[\"Company ID\"])\n",
    "distinct_dict = dict(sorted(distinct_dict.items(), key=lambda item: item[1], reverse=True))"
   ]
  },
  {
   "cell_type": "code",
   "execution_count": null,
   "id": "fefda199",
   "metadata": {},
   "outputs": [],
   "source": [
    "for key_set in list(combinations(distinct_dict.keys(), 3)):\n",
    "    subset = fn.intersection3(distinct_dict[key_set[0]], distinct_dict[key_set[1]], distinct_dict[key_set[2]])\n",
    "    if subset[\"111\"] > 4:\n",
    "        fn.venn_plot(subset, key_set, path = make_path(dataset_name, \"venn\", \"venn\\\\\"), dim=(5,5))"
   ]
  },
  {
   "cell_type": "markdown",
   "id": "2615cd1f",
   "metadata": {},
   "source": [
    "##### Intersezioni"
   ]
  },
  {
   "cell_type": "code",
   "execution_count": null,
   "id": "e7526b36",
   "metadata": {},
   "outputs": [],
   "source": [
    "num_category = 5\n",
    "cond = 15\n",
    "new_dict = dict((k, v) for k, v in distinct_dict.items() if len(v) > cond)\n",
    "print(\"Numero categorie considerate: \", len(new_dict))\n",
    "print(\"Numero di combinazioni: \", len(list(combinations(new_dict.keys(), num_category))), \" (< 250 000)\")"
   ]
  },
  {
   "cell_type": "code",
   "execution_count": null,
   "id": "915a36f0",
   "metadata": {},
   "outputs": [],
   "source": [
    "# esecuzione lunga, numero di iterazioni molto elevato\n",
    "# il risultato result è contenuto nel file Datasets/cmc/intersezioni.txt\n",
    "i = 0\n",
    "result = []\n",
    "for key_set in list(combinations(new_dict.keys(), num_category)):\n",
    "    d = {key: distinct_dict[key] for key in key_set} \n",
    "    dd = fn.n_intersection(d)\n",
    "    print(\"iter: \", i)\n",
    "    i += 1\n",
    "    if dd[len(dd)-1][1] >= 1:\n",
    "        result.append(dd)"
   ]
  },
  {
   "cell_type": "code",
   "execution_count": null,
   "id": "1025c0c1",
   "metadata": {},
   "outputs": [],
   "source": [
    "for d in result:\n",
    "    values = [[]]\n",
    "    data = [0]\n",
    "    for i in range(0,len(d)):\n",
    "        values.append(list(d[i][0]))\n",
    "        data.append(d[i][1])\n",
    "    example = from_memberships(values, data)\n",
    "    plot(example, facecolor=\"#6495ED\") \n",
    "    pyplot.savefig(make_path(dataset_name, \"intersection\"), bbox_inches='tight', transparent=True)\n",
    "    pyplot.show() "
   ]
  },
  {
   "cell_type": "markdown",
   "id": "ee6eb166",
   "metadata": {},
   "source": [
    "# Estrazione prestazioni"
   ]
  },
  {
   "cell_type": "code",
   "execution_count": null,
   "id": "6b411fde",
   "metadata": {},
   "outputs": [],
   "source": [
    "# Tempo totale di esecuzione 1079.712150335312: (secondi), 1400 entry"
   ]
  },
  {
   "cell_type": "code",
   "execution_count": null,
   "id": "680f4643",
   "metadata": {},
   "outputs": [],
   "source": [
    "df_time.head()"
   ]
  },
  {
   "cell_type": "code",
   "execution_count": null,
   "id": "835d2049",
   "metadata": {},
   "outputs": [],
   "source": [
    "df_time.describe()"
   ]
  },
  {
   "cell_type": "code",
   "execution_count": null,
   "id": "3055bc43",
   "metadata": {},
   "outputs": [],
   "source": [
    "new_df_time = df_time.describe()\n",
    "del new_df_time[\"Tempo request\"]"
   ]
  },
  {
   "cell_type": "code",
   "execution_count": null,
   "id": "5a9a52d3",
   "metadata": {},
   "outputs": [],
   "source": [
    "keys = [\"Tempo request\", \"Tempo estrazione dettagli\"]\n",
    "values = [df_time.describe()[\"Tempo request\"][\"mean\"], new_df_time.sum(axis=\"columns\")[\"mean\"]]\n",
    "values = np.array(values) * 1000\n",
    "title = \"Confronto tempo medio (ms) request vs tempo medio (ms) estrazione dettagli\"\n",
    "file_name = \"\".join(title.lower()).replace(\" \", \"_\")\n",
    "dim = (7,4)\n",
    "fn.bar_plot(keys, values, title, make_path(dataset_name, file_name, \"tempi\\\\\"), dim, True)"
   ]
  },
  {
   "cell_type": "code",
   "execution_count": null,
   "id": "c026c0f3",
   "metadata": {},
   "outputs": [],
   "source": [
    "keys = list(new_df_time.loc[\"mean\"].keys())\n",
    "values = list(new_df_time.loc[\"mean\"])\n",
    "values = np.array(values) * 1000\n",
    "title = \"Tempi medi (ms) di estrazione dei valori (solo xpath)\"\n",
    "file_name = \"\".join(title.lower()).replace(\" \", \"_\")\n",
    "dim = (10,4)\n",
    "fn.bar_plot(keys, values, title, make_path(dataset_name, file_name, \"tempi\\\\\"), dim, True)"
   ]
  },
  {
   "cell_type": "code",
   "execution_count": null,
   "id": "be074b97",
   "metadata": {},
   "outputs": [],
   "source": [
    "keys = list(new_df_time.loc[\"max\"].keys())\n",
    "values = list(new_df_time.loc[\"max\"])\n",
    "values = np.array(values) * 1000\n",
    "title = \"Tempo massimo (ms) di estrazione dei valori (solo xpath)\"\n",
    "file_name = \"\".join(title.lower()).replace(\" \", \"_\")\n",
    "dim = (10,4)\n",
    "fn.bar_plot(keys, values, title, make_path(dataset_name, file_name, \"tempi\\\\\"), dim, True)"
   ]
  },
  {
   "cell_type": "code",
   "execution_count": null,
   "id": "038c4319",
   "metadata": {},
   "outputs": [],
   "source": [
    "file_time = \"..\\\\Datasets\\\\\" + dataset_name + \"\\\\tempi.txt\"\n",
    "file = open(file_time, 'r')\n",
    "page_time = ast.literal_eval(file.read())\n",
    "file.close()"
   ]
  },
  {
   "cell_type": "code",
   "execution_count": null,
   "id": "a4d38e8a",
   "metadata": {},
   "outputs": [],
   "source": [
    "keys = page_time.keys()\n",
    "values = [v[0] for v in page_time.values()]\n",
    "values = np.array(values) * 1000\n",
    "title = \"Tempo (ms) per request pagina lista\"\n",
    "file_name = \"\".join(title.lower()).replace(\" \", \"_\")\n",
    "dim = (10,4)\n",
    "fn.bar_plot([\"Pagina \" + str(x) for x in keys], values.astype(int), title, make_path(dataset_name, file_name, \"tempi\\\\\"), dim, True)"
   ]
  },
  {
   "cell_type": "code",
   "execution_count": null,
   "id": "b7414085",
   "metadata": {},
   "outputs": [],
   "source": [
    "keys = page_time.keys()\n",
    "values = [v[1] for v in page_time.values()]\n",
    "values = np.array(values) * 1000\n",
    "title = \"Tempo (ms) di estrazione dei link delle pagine di dettaglio su ogni pagina (solo xpath)\"\n",
    "file_name = \"\".join(title.lower()).replace(\" \", \"_\")\n",
    "dim = (10,4)\n",
    "fn.bar_plot([\"Pagina \" + str(x) for x in keys], values.astype(int), title, make_path(dataset_name, file_name, \"tempi\\\\\"), dim, True)"
   ]
  },
  {
   "cell_type": "code",
   "execution_count": null,
   "id": "de62b1f0",
   "metadata": {},
   "outputs": [],
   "source": []
  }
 ],
 "metadata": {
  "kernelspec": {
   "display_name": "Python 3",
   "language": "python",
   "name": "python3"
  },
  "language_info": {
   "codemirror_mode": {
    "name": "ipython",
    "version": 3
   },
   "file_extension": ".py",
   "mimetype": "text/x-python",
   "name": "python",
   "nbconvert_exporter": "python",
   "pygments_lexer": "ipython3",
   "version": "3.8.8"
  }
 },
 "nbformat": 4,
 "nbformat_minor": 5
}

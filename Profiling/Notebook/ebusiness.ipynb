{
 "cells": [
  {
   "cell_type": "markdown",
   "id": "1479676c",
   "metadata": {},
   "source": [
    "# Import librerie e definizione funzioni d'utilità"
   ]
  },
  {
   "cell_type": "code",
   "execution_count": null,
   "id": "b54ebec7",
   "metadata": {},
   "outputs": [],
   "source": [
    "import functions as fn"
   ]
  },
  {
   "cell_type": "code",
   "execution_count": null,
   "id": "39d11900",
   "metadata": {},
   "outputs": [],
   "source": [
    "import pandas as pd\n",
    "import numpy as np\n",
    "import os\n",
    "import re\n",
    "import geopandas as gpd"
   ]
  },
  {
   "cell_type": "code",
   "execution_count": null,
   "id": "4dbfa034",
   "metadata": {},
   "outputs": [],
   "source": [
    "dataset_name = \"ebusiness\"\n",
    "if not os.path.exists(\"..\\\\Plot\"):\n",
    "    os.mkdir(\"..\\\\Plot\")\n",
    "if not os.path.exists(\"..\\\\Plot\\\\\" + dataset_name):\n",
    "    os.mkdir(\"..\\\\Plot\\\\\" + dataset_name)\n",
    "if not os.path.exists(\"..\\\\Plot\\\\\" + dataset_name + \"\\\\tempi\"):\n",
    "    os.mkdir(\"..\\\\Plot\\\\\" + dataset_name + \"\\\\tempi\")\n",
    "if not os.path.exists(\"..\\\\DatasetParsed\"):\n",
    "    os.mkdir(\"..\\\\DatasetParsed\")\n",
    "if not os.path.exists(\"..\\\\DatasetParsed\\\\\" + dataset_name):\n",
    "    os.mkdir(\"..\\\\DatasetParsed\\\\\" + dataset_name)"
   ]
  },
  {
   "cell_type": "code",
   "execution_count": null,
   "id": "6cda18d0",
   "metadata": {},
   "outputs": [],
   "source": [
    "counter = 0\n",
    "def make_path(dataset, file_name, other = \"\"):\n",
    "    global counter\n",
    "    counter += 1\n",
    "    return \"..\\\\Plot\\\\\" + dataset + \"\\\\\" + other + str(counter) + \"-\" + file_name"
   ]
  },
  {
   "cell_type": "markdown",
   "id": "edad4e74",
   "metadata": {},
   "source": [
    "# Estrazione dati tabella aziende"
   ]
  },
  {
   "cell_type": "code",
   "execution_count": null,
   "id": "42d08fc5",
   "metadata": {},
   "outputs": [],
   "source": [
    "dataset_eb = \"..\\\\Datasets\\\\\" + dataset_name + \"\\\\ebusiness-aziende-dataset.csv\"\n",
    "df_eb = pd.read_csv(dataset_eb, encoding='cp1252')\n",
    "df_time = df_eb[[\"URL\", \"Tempo richiesta\", \"Tempo estrazione Name\", \"Tempo estrazione Code\", \"Tempo estrazione Legal Form\", \"Tempo estrazione Status\", \"Tempo estrazione Reg. Date\", \"Tempo estrazione Capital\", \"Tempo estrazione Address\", \"Tempo estrazione Del. Date\", \"Tempo estrazione dati Rapp.\", \"Tempo estrazione Partners\", \"Tempo estrazione Activity\"]]\n",
    "df_eb = df_eb[[\"URL\", \"ID\", \"Name\", \"Code\", \"Legal form\", \"Status\", \"Registration Date\", \"Capital\", \"Address\", \"Deletion Date\"]]\n",
    "print(\"Numero entry tabella originale: \", len(df_eb))"
   ]
  },
  {
   "cell_type": "code",
   "execution_count": null,
   "id": "d3698750",
   "metadata": {},
   "outputs": [],
   "source": [
    "def eek_to_eur(x):\n",
    "    # 1 EEK --> 0,0639115 EUR\n",
    "    return x * 0.0639115\n",
    "\n",
    "def convert_capital(x):\n",
    "    if type(x) == str:\n",
    "        x = x.replace(\"Capitalis\", \"\")\n",
    "        x = x.replace(\"€\", \"\")\n",
    "        x = x.replace(\"\\xa0\", \"\")\n",
    "        if \"EEK\" in x:\n",
    "            x = x.replace(\"EEK\", \"\")\n",
    "            return eek_to_eur(float(x))\n",
    "    return float(x)"
   ]
  },
  {
   "cell_type": "code",
   "execution_count": null,
   "id": "e2da4fcd",
   "metadata": {},
   "outputs": [],
   "source": [
    "df_eb['Capital'] = df_eb['Capital'].apply(convert_capital)"
   ]
  },
  {
   "cell_type": "code",
   "execution_count": null,
   "id": "d0cf0902",
   "metadata": {},
   "outputs": [],
   "source": [
    "df_eb.to_csv(\"..\\\\DatasetParsed\\\\\" + dataset_name + \"\\\\\" + dataset_name + \"-aziende.csv\", index=False)\n",
    "df_eb.head()"
   ]
  },
  {
   "cell_type": "code",
   "execution_count": null,
   "id": "325bec93",
   "metadata": {},
   "outputs": [],
   "source": [
    "info_dataset = fn.extract_data_from_df(df_eb)\n",
    "display(pd.DataFrame(info_dataset, index=[\"valore\"]).T)"
   ]
  },
  {
   "cell_type": "markdown",
   "id": "de0a7f4d",
   "metadata": {},
   "source": [
    "### Statistiche celle"
   ]
  },
  {
   "cell_type": "code",
   "execution_count": null,
   "id": "e35b57e7",
   "metadata": {},
   "outputs": [],
   "source": [
    "keys = [\"celle totali\", \"celle nulle\"]\n",
    "values = [\n",
    "    info_dataset[\"numero celle\"], \n",
    "    info_dataset[\"numero celle nulle\"]\n",
    "]\n",
    "title = \"Confronto numero celle totali e vuote\"\n",
    "file_name = \"\".join(title.lower()).replace(\" \", \"_\")\n",
    "dim = (7,4)\n",
    "fn.bar_plot(keys, values, title, make_path(dataset_name, file_name), dim)"
   ]
  },
  {
   "cell_type": "code",
   "execution_count": null,
   "id": "0c896e55",
   "metadata": {},
   "outputs": [],
   "source": [
    "keys = [\"celle totali\", \"celle str\", \"celle float\", \"celle int\"]\n",
    "values = [\n",
    "    info_dataset[\"numero celle\"], \n",
    "    info_dataset[\"numero celle str\"],\n",
    "    info_dataset[\"numero celle float\"],\n",
    "    info_dataset[\"numero celle int\"]\n",
    "]\n",
    "title = \"Confronto tipo celle\"\n",
    "file_name = \"\".join(title.lower()).replace(\" \", \"_\")\n",
    "dim = (7,4)\n",
    "fn.bar_plot(keys, values, title, make_path(dataset_name, file_name), dim)"
   ]
  },
  {
   "cell_type": "markdown",
   "id": "a9d0bbcc",
   "metadata": {},
   "source": [
    "### Statistiche righe"
   ]
  },
  {
   "cell_type": "code",
   "execution_count": null,
   "id": "4b3f5251",
   "metadata": {},
   "outputs": [],
   "source": [
    "keys = [\"righe totali\", \"righe con celle nulle\"]\n",
    "values = [\n",
    "    info_dataset[\"numero righe\"], \n",
    "    info_dataset[\"numero righe con celle nulle\"]\n",
    "]\n",
    "title = \"Confronto numero righe totali e nulle\"\n",
    "file_name = \"\".join(title.lower()).replace(\" \", \"_\")\n",
    "dim = (7,4)\n",
    "fn.bar_plot(keys, values, title, make_path(dataset_name, file_name), dim)"
   ]
  },
  {
   "cell_type": "markdown",
   "id": "04020023",
   "metadata": {},
   "source": [
    "### Statistiche colonne"
   ]
  },
  {
   "cell_type": "code",
   "execution_count": null,
   "id": "a27b0d27",
   "metadata": {},
   "outputs": [],
   "source": [
    "keys = [\"colonne totali\", \"colonne con celle nulle\"]\n",
    "values = [\n",
    "    info_dataset[\"numero colonne\"], \n",
    "    info_dataset[\"numero colonne con celle nulle\"]\n",
    "]\n",
    "title = \"Confronto numero colonne totali e nulle\"\n",
    "file_name = \"\".join(title.lower()).replace(\" \", \"_\")\n",
    "dim = (7,4)\n",
    "fn.bar_plot(keys, values, title, make_path(dataset_name, file_name), dim)"
   ]
  },
  {
   "cell_type": "code",
   "execution_count": null,
   "id": "562456d1",
   "metadata": {},
   "outputs": [],
   "source": [
    "keys = [\"colonne totali\", \"colonne str\", \"colonne float\", \"colonne int\"]\n",
    "values = [\n",
    "    info_dataset[\"numero colonne\"], \n",
    "    info_dataset[\"numero colonne str\"],\n",
    "    info_dataset[\"numero colonne float\"],\n",
    "    info_dataset[\"numero colonne int\"]\n",
    "]\n",
    "title = \"Confronto tipo colonne\"\n",
    "file_name = \"\".join(title.lower()).replace(\" \", \"_\")\n",
    "dim = (7,4)\n",
    "fn.bar_plot(keys, values, title, make_path(dataset_name, file_name), dim)"
   ]
  },
  {
   "cell_type": "code",
   "execution_count": null,
   "id": "bede397b",
   "metadata": {},
   "outputs": [],
   "source": [
    "different_value_columns = {}\n",
    "for key in df_eb:\n",
    "    different_value_columns[key] = [len(pd.unique(df_eb[key])), df_eb[key].isnull().sum()]\n",
    "different_value_columns = dict(sorted(different_value_columns.items(), key=lambda item: item[1], reverse=True))"
   ]
  },
  {
   "cell_type": "code",
   "execution_count": null,
   "id": "c42372af",
   "metadata": {},
   "outputs": [],
   "source": [
    "keys = different_value_columns.keys()\n",
    "values = [item[0] for item in different_value_columns.values()]\n",
    "title = \"Numero di valori distinti per colonna\"\n",
    "file_name = \"\".join(title.lower()).replace(\" \", \"_\")\n",
    "dim = (8,4)\n",
    "fn.bar_plot(keys, values, title, make_path(dataset_name, file_name), dim, True, info_dataset[\"numero righe\"])"
   ]
  },
  {
   "cell_type": "code",
   "execution_count": null,
   "id": "ad5f4ea5",
   "metadata": {},
   "outputs": [],
   "source": [
    "keys = different_value_columns.keys()\n",
    "values = [item[1] for item in different_value_columns.values()]\n",
    "title = \"Numero di valori nulli per colonna\"\n",
    "file_name = \"\".join(title.lower()).replace(\" \", \"_\")\n",
    "dim = (8,4)\n",
    "fn.bar_plot(keys, values, title, make_path(dataset_name, file_name), dim, True, info_dataset[\"numero righe\"])"
   ]
  },
  {
   "cell_type": "markdown",
   "id": "b053fbb7",
   "metadata": {},
   "source": [
    "### Plot su mappe geografiche"
   ]
  },
  {
   "cell_type": "code",
   "execution_count": null,
   "id": "5a1ef29b",
   "metadata": {},
   "outputs": [],
   "source": [
    "region = [x.split(\"maakond\")[0].strip() + \" maakond\" for x in list(df_eb[\"Address\"]) if x is not np.nan]\n",
    "n_companies_by_region = {}\n",
    "res = []\n",
    "[res.append(x) for x in region if x not in res]\n",
    "for c in res:\n",
    "    n_companies_by_region[c] = region.count(c)"
   ]
  },
  {
   "cell_type": "code",
   "execution_count": null,
   "id": "1646c54c",
   "metadata": {},
   "outputs": [],
   "source": [
    "fp = \"..\\\\Mappe\\\\\" + dataset_name + \"\\\\Estonia\\\\maakond_20221101.shp\"\n",
    "map_df = gpd.read_file(fp)\n",
    "map_df[\"n_companies\"] = np.nan\n",
    "for i, row in map_df.iterrows():\n",
    "    if row[0] in n_companies_by_region:\n",
    "        map_df.at[i, 'n_companies'] = n_companies_by_region[row[0]]\n",
    "map_df[\"MNIMI\"] = map_df[\"MNIMI\"].apply(lambda x: x.split(\" \")[0])\n",
    "map_df"
   ]
  },
  {
   "cell_type": "code",
   "execution_count": null,
   "id": "3c405e75",
   "metadata": {},
   "outputs": [],
   "source": [
    "fn.map_plot(map_df, \"n_companies\", \"MNIMI\", \"geometry\", 10,\"Numero di aziende per contea\", make_path(dataset_name, \"contee_estonia\"))"
   ]
  },
  {
   "cell_type": "markdown",
   "id": "6749f281",
   "metadata": {},
   "source": [
    "# Estrazione dati tabella activity"
   ]
  },
  {
   "cell_type": "code",
   "execution_count": null,
   "id": "c3d9386f",
   "metadata": {},
   "outputs": [],
   "source": [
    "dataset_eb_a = \"..\\\\Datasets\\\\\" + dataset_name + \"\\\\ebusiness-activity-dataset.csv\"\n",
    "dataset_eb_p = \"..\\\\Datasets\\\\\" + dataset_name + \"\\\\ebusiness-partners-dataset.csv\"\n",
    "dataset_eb_r = \"..\\\\Datasets\\\\\" + dataset_name + \"\\\\ebusiness-rapp-dataset.csv\""
   ]
  },
  {
   "cell_type": "code",
   "execution_count": null,
   "id": "59f71adc",
   "metadata": {},
   "outputs": [],
   "source": [
    "df_eb_a = pd.read_csv(dataset_eb, encoding='cp1252')\n",
    "df_time = df_eb[[\"URL\", \"Tempo richiesta\", \"Tempo estrazione Name\", \"Tempo estrazione Code\", \"Tempo estrazione Legal Form\", \"Tempo estrazione Status\", \"Tempo estrazione Reg. Date\", \"Tempo estrazione Capital\", \"Tempo estrazione Address\", \"Tempo estrazione Del. Date\"]]\n",
    "df_eb_a = df_eb[[\"URL\", \"ID\", \"Name\", \"Code\", \"Legal form\", \"Status\", \"Registration Date\", \"Capital\", \"Address\", \"Deletion Date\"]]\n",
    "print(\"Numero entry tabella originale: \", len(df_eb))"
   ]
  },
  {
   "cell_type": "markdown",
   "id": "6f48ed6f",
   "metadata": {},
   "source": [
    "# Estrazione dati tabella partners"
   ]
  },
  {
   "cell_type": "code",
   "execution_count": null,
   "id": "1aa12495",
   "metadata": {},
   "outputs": [],
   "source": []
  },
  {
   "cell_type": "markdown",
   "id": "001bdbc7",
   "metadata": {},
   "source": [
    "# Estrazione dati tabella rappresentanti giuridici"
   ]
  },
  {
   "cell_type": "code",
   "execution_count": null,
   "id": "c49821c5",
   "metadata": {},
   "outputs": [],
   "source": []
  },
  {
   "cell_type": "code",
   "execution_count": null,
   "id": "3fafdf38",
   "metadata": {},
   "outputs": [],
   "source": []
  },
  {
   "cell_type": "code",
   "execution_count": null,
   "id": "5be9a16a",
   "metadata": {},
   "outputs": [],
   "source": []
  },
  {
   "cell_type": "code",
   "execution_count": null,
   "id": "88d21e11",
   "metadata": {},
   "outputs": [],
   "source": []
  },
  {
   "cell_type": "markdown",
   "id": "bf5ed989",
   "metadata": {},
   "source": [
    "# Estrazione prestazioni"
   ]
  },
  {
   "cell_type": "code",
   "execution_count": null,
   "id": "79962787",
   "metadata": {},
   "outputs": [],
   "source": [
    "# Tempo totale di esecuzione 1590207327300: (nanosecondi), 1468 entry"
   ]
  },
  {
   "cell_type": "code",
   "execution_count": null,
   "id": "40f39780",
   "metadata": {},
   "outputs": [],
   "source": [
    "df_time.head()"
   ]
  },
  {
   "cell_type": "code",
   "execution_count": null,
   "id": "ff41d63d",
   "metadata": {},
   "outputs": [],
   "source": [
    "df_time.describe()"
   ]
  },
  {
   "cell_type": "code",
   "execution_count": null,
   "id": "464ca68d",
   "metadata": {},
   "outputs": [],
   "source": [
    "new_df_time = df_time.describe()\n",
    "del new_df_time[\"Tempo richiesta\"]"
   ]
  },
  {
   "cell_type": "code",
   "execution_count": null,
   "id": "43930607",
   "metadata": {},
   "outputs": [],
   "source": [
    "keys = [\"Tempo richiesta\", \"Tempo estrazione dettagli\"]\n",
    "values = [df_time.describe()[\"Tempo richiesta\"][\"mean\"], new_df_time.sum(axis=\"columns\")[\"mean\"] / 1000000000]\n",
    "values = np.array(values) * 1000\n",
    "title = \"Confronto tempo medio (ms) request vs tempo medio (ms) estrazione dettagli\"\n",
    "file_name = \"\".join(title.lower()).replace(\" \", \"_\")\n",
    "dim = (7,4)\n",
    "fn.bar_plot(keys, values, title, make_path(dataset_name, file_name, \"tempi\\\\\"), dim, True)"
   ]
  },
  {
   "cell_type": "code",
   "execution_count": null,
   "id": "632a9a4d",
   "metadata": {},
   "outputs": [],
   "source": [
    "keys = list(new_df_time.loc[\"mean\"].keys())\n",
    "values = list(new_df_time.loc[\"mean\"])\n",
    "values = np.array(values) / 1000000\n",
    "title = \"Tempi medi (ms) di estrazione dei valori (solo xpath)\"\n",
    "file_name = \"\".join(title.lower()).replace(\" \", \"_\")\n",
    "dim = (10,4)\n",
    "fn.bar_plot(keys, values, title, make_path(dataset_name, file_name, \"tempi\\\\\"), dim, True)"
   ]
  },
  {
   "cell_type": "code",
   "execution_count": null,
   "id": "a1b1de3b",
   "metadata": {},
   "outputs": [],
   "source": [
    "keys = list(new_df_time.loc[\"max\"].keys())\n",
    "values = list(new_df_time.loc[\"max\"])\n",
    "values = np.array(values) / 1000000\n",
    "title = \"Tempo massimo (ms) di estrazione dei valori (solo xpath)\"\n",
    "file_name = \"\".join(title.lower()).replace(\" \", \"_\")\n",
    "dim = (10,4)\n",
    "fn.bar_plot(keys, values, title, make_path(dataset_name, file_name, \"tempi\\\\\"), dim, True)"
   ]
  },
  {
   "cell_type": "code",
   "execution_count": null,
   "id": "63ef3f2e",
   "metadata": {},
   "outputs": [],
   "source": []
  },
  {
   "cell_type": "code",
   "execution_count": null,
   "id": "110a1a32",
   "metadata": {},
   "outputs": [],
   "source": []
  },
  {
   "cell_type": "code",
   "execution_count": null,
   "id": "31996661",
   "metadata": {},
   "outputs": [],
   "source": []
  }
 ],
 "metadata": {
  "kernelspec": {
   "display_name": "Python 3",
   "language": "python",
   "name": "python3"
  },
  "language_info": {
   "codemirror_mode": {
    "name": "ipython",
    "version": 3
   },
   "file_extension": ".py",
   "mimetype": "text/x-python",
   "name": "python",
   "nbconvert_exporter": "python",
   "pygments_lexer": "ipython3",
   "version": "3.8.8"
  }
 },
 "nbformat": 4,
 "nbformat_minor": 5
}

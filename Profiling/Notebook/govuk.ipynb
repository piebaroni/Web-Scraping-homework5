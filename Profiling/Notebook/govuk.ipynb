{
 "cells": [
  {
   "cell_type": "markdown",
   "id": "68f66349",
   "metadata": {},
   "source": [
    "# Import librerie e definizione funzioni d'utilità"
   ]
  },
  {
   "cell_type": "code",
   "execution_count": null,
   "id": "5f486d68",
   "metadata": {},
   "outputs": [],
   "source": [
    "import functions as fn"
   ]
  },
  {
   "cell_type": "code",
   "execution_count": null,
   "id": "05c1fc1f",
   "metadata": {},
   "outputs": [],
   "source": [
    "import pandas as pd\n",
    "import numpy as np\n",
    "import os\n",
    "import re\n",
    "import geopandas as gpd"
   ]
  },
  {
   "cell_type": "code",
   "execution_count": null,
   "id": "321ffc5b",
   "metadata": {},
   "outputs": [],
   "source": [
    "dataset_name = \"govuk\"\n",
    "if not os.path.exists(\"..\\\\Plot\"):\n",
    "    os.mkdir(\"..\\\\Plot\")\n",
    "if not os.path.exists(\"..\\\\Plot\\\\\" + dataset_name):\n",
    "    os.mkdir(\"..\\\\Plot\\\\\" + dataset_name)\n",
    "if not os.path.exists(\"..\\\\Plot\\\\\" + dataset_name + \"\\\\tempi\"):\n",
    "    os.mkdir(\"..\\\\Plot\\\\\" + dataset_name + \"\\\\tempi\")\n",
    "if not os.path.exists(\"..\\\\DatasetParsed\"):\n",
    "    os.mkdir(\"..\\\\DatasetParsed\")\n",
    "if not os.path.exists(\"..\\\\DatasetParsed\\\\\" + dataset_name):\n",
    "    os.mkdir(\"..\\\\DatasetParsed\\\\\" + dataset_name)"
   ]
  },
  {
   "cell_type": "code",
   "execution_count": null,
   "id": "c43aa0d6",
   "metadata": {},
   "outputs": [],
   "source": [
    "counter = 0\n",
    "def make_path(dataset, file_name, other = \"\"):\n",
    "    global counter\n",
    "    counter += 1\n",
    "    return \"..\\\\Plot\\\\\" + dataset + \"\\\\\" + other + str(counter) + \"-\" + file_name"
   ]
  },
  {
   "cell_type": "markdown",
   "id": "0bc9fa42",
   "metadata": {},
   "source": [
    "# Estrazione dati tabella aziende"
   ]
  },
  {
   "cell_type": "code",
   "execution_count": null,
   "id": "96e441db",
   "metadata": {},
   "outputs": [],
   "source": [
    "dataset_govuk = \"..\\\\Datasets\\\\\" + dataset_name + \"\\\\govuk-aziende-dataset.csv\"\n",
    "df_govuk = pd.read_csv(dataset_govuk, encoding='cp1252')\n",
    "df_time = df_govuk[[\"URL\", \"Tempo richiesta\", \"Tempo estrazione Name\", \"Tempo estrazione Company ID\", \"Tempo estrazione Company Status\", \"Tempo estrazione Company Type\", \"Tempo estrazione Reg/Inc Date\", \"Tempo estrazione Diss Date\", \"Tempo estrazione Address\"]]\n",
    "df_govuk = df_govuk[[\"URL\", \"ID\", \"Name\", \"Company ID\", \"Company Status\", \"Company Type\", \"Registration Date\", \"Incorporation Date\", \"Dissolution Date\", \"Office Address\"]]\n",
    "print(\"Numero entry tabella originale: \", len(df_govuk))"
   ]
  },
  {
   "cell_type": "code",
   "execution_count": null,
   "id": "3f32bf5d",
   "metadata": {},
   "outputs": [],
   "source": [
    "df_govuk.to_csv(\"..\\\\DatasetParsed\\\\\" + dataset_name + \"\\\\\" + dataset_name + \"-aziende.csv\", index=False)\n",
    "df_govuk.head()"
   ]
  },
  {
   "cell_type": "code",
   "execution_count": null,
   "id": "1ae05d9f",
   "metadata": {},
   "outputs": [],
   "source": [
    "info_dataset = fn.extract_data_from_df(df_govuk)\n",
    "display(pd.DataFrame(info_dataset, index=[\"valore\"]).T)"
   ]
  },
  {
   "cell_type": "markdown",
   "id": "1a684e70",
   "metadata": {},
   "source": [
    "### Statistiche celle"
   ]
  },
  {
   "cell_type": "code",
   "execution_count": null,
   "id": "a5a661c0",
   "metadata": {},
   "outputs": [],
   "source": [
    "keys = [\"celle totali\", \"celle nulle\"]\n",
    "values = [\n",
    "    info_dataset[\"numero celle\"], \n",
    "    info_dataset[\"numero celle nulle\"]\n",
    "]\n",
    "title = \"Confronto numero celle totali e vuote\"\n",
    "file_name = \"\".join(title.lower()).replace(\" \", \"_\")\n",
    "dim = (7,4)\n",
    "fn.bar_plot(keys, values, title, make_path(dataset_name, file_name), dim)"
   ]
  },
  {
   "cell_type": "code",
   "execution_count": null,
   "id": "cee60854",
   "metadata": {},
   "outputs": [],
   "source": [
    "keys = [\"celle totali\", \"celle str\", \"celle float\", \"celle int\"]\n",
    "values = [\n",
    "    info_dataset[\"numero celle\"], \n",
    "    info_dataset[\"numero celle str\"],\n",
    "    info_dataset[\"numero celle float\"],\n",
    "    info_dataset[\"numero celle int\"]\n",
    "]\n",
    "title = \"Confronto tipo celle\"\n",
    "file_name = \"\".join(title.lower()).replace(\" \", \"_\")\n",
    "dim = (7,4)\n",
    "fn.bar_plot(keys, values, title, make_path(dataset_name, file_name), dim)"
   ]
  },
  {
   "cell_type": "markdown",
   "id": "e3a9abee",
   "metadata": {},
   "source": [
    "### Statistiche righe"
   ]
  },
  {
   "cell_type": "code",
   "execution_count": null,
   "id": "b626bba3",
   "metadata": {},
   "outputs": [],
   "source": [
    "keys = [\"righe totali\", \"righe con celle nulle\"]\n",
    "values = [\n",
    "    info_dataset[\"numero righe\"], \n",
    "    info_dataset[\"numero righe con celle nulle\"]\n",
    "]\n",
    "title = \"Confronto numero righe totali e nulle\"\n",
    "file_name = \"\".join(title.lower()).replace(\" \", \"_\")\n",
    "dim = (7,4)\n",
    "fn.bar_plot(keys, values, title, make_path(dataset_name, file_name), dim)"
   ]
  },
  {
   "cell_type": "markdown",
   "id": "383bb824",
   "metadata": {},
   "source": [
    "### Statistiche colonne"
   ]
  },
  {
   "cell_type": "code",
   "execution_count": null,
   "id": "4c004ce7",
   "metadata": {},
   "outputs": [],
   "source": [
    "keys = [\"colonne totali\", \"colonne con celle nulle\"]\n",
    "values = [\n",
    "    info_dataset[\"numero colonne\"], \n",
    "    info_dataset[\"numero colonne con celle nulle\"]\n",
    "]\n",
    "title = \"Confronto numero colonne totali e nulle\"\n",
    "file_name = \"\".join(title.lower()).replace(\" \", \"_\")\n",
    "dim = (7,4)\n",
    "fn.bar_plot(keys, values, title, make_path(dataset_name, file_name), dim)"
   ]
  },
  {
   "cell_type": "code",
   "execution_count": null,
   "id": "68d17762",
   "metadata": {},
   "outputs": [],
   "source": [
    "keys = [\"colonne totali\", \"colonne str\", \"colonne float\", \"colonne int\"]\n",
    "values = [\n",
    "    info_dataset[\"numero colonne\"], \n",
    "    info_dataset[\"numero colonne str\"],\n",
    "    info_dataset[\"numero colonne float\"],\n",
    "    info_dataset[\"numero colonne int\"]\n",
    "]\n",
    "title = \"Confronto tipo colonne\"\n",
    "file_name = \"\".join(title.lower()).replace(\" \", \"_\")\n",
    "dim = (7,4)\n",
    "fn.bar_plot(keys, values, title, make_path(dataset_name, file_name), dim)"
   ]
  },
  {
   "cell_type": "code",
   "execution_count": null,
   "id": "8fcab8c3",
   "metadata": {},
   "outputs": [],
   "source": [
    "different_value_columns = {}\n",
    "for key in df_govuk:\n",
    "    different_value_columns[key] = [len(pd.unique(df_govuk[key])), df_govuk[key].isnull().sum()]\n",
    "different_value_columns = dict(sorted(different_value_columns.items(), key=lambda item: item[1], reverse=True))"
   ]
  },
  {
   "cell_type": "code",
   "execution_count": null,
   "id": "1d23c4a4",
   "metadata": {},
   "outputs": [],
   "source": [
    "keys = different_value_columns.keys()\n",
    "values = [item[0] for item in different_value_columns.values()]\n",
    "title = \"Numero di valori distinti per colonna\"\n",
    "file_name = \"\".join(title.lower()).replace(\" \", \"_\")\n",
    "dim = (8,4)\n",
    "fn.bar_plot(keys, values, title, make_path(dataset_name, file_name), dim, True, info_dataset[\"numero righe\"])"
   ]
  },
  {
   "cell_type": "code",
   "execution_count": null,
   "id": "f7604924",
   "metadata": {},
   "outputs": [],
   "source": [
    "keys = different_value_columns.keys()\n",
    "values = [item[1] for item in different_value_columns.values()]\n",
    "title = \"Numero di valori nulli per colonna\"\n",
    "file_name = \"\".join(title.lower()).replace(\" \", \"_\")\n",
    "dim = (8,4)\n",
    "fn.bar_plot(keys, values, title, make_path(dataset_name, file_name), dim, True, info_dataset[\"numero righe\"])"
   ]
  },
  {
   "cell_type": "markdown",
   "id": "09868132",
   "metadata": {},
   "source": [
    "### Plot su mappe geografiche"
   ]
  },
  {
   "cell_type": "code",
   "execution_count": null,
   "id": "5b2503ab",
   "metadata": {},
   "outputs": [],
   "source": [
    "df_govuk = df_govuk[df_govuk['Office Address'].isnull() == False]\n",
    "print(\"Filtro Office Address null: \", len(df_govuk))\n",
    "caps = []\n",
    "pattern = re.compile(\"^[A-Z]([A-Z]|[0-9]){4,6}\")\n",
    "for address in df_govuk[\"Office Address\"]:\n",
    "    token = address.split(\" \")\n",
    "    if pattern.match(token[-1]):\n",
    "        caps.append(token[-1])\n",
    "print(\"Filtro Office Address senza CAP: \", len(caps))"
   ]
  },
  {
   "cell_type": "code",
   "execution_count": null,
   "id": "f0610d39",
   "metadata": {},
   "outputs": [],
   "source": [
    "file_postcodes = \"..\\\\CAP\\\\\" + dataset_name + \"\\\\postcodes.csv\"\n",
    "postcodes = pd.read_csv(file_postcodes)\n",
    "postcodes = postcodes[['Postcode', 'UK region']]\n",
    "postcodes = postcodes.rename(columns={\"Postcode\": \"postcode\", \"UK region\": \"region\"})"
   ]
  },
  {
   "cell_type": "markdown",
   "id": "6a205ffe",
   "metadata": {},
   "source": [
    "##### Nazioni UK"
   ]
  },
  {
   "cell_type": "code",
   "execution_count": null,
   "id": "42b3a528",
   "metadata": {},
   "outputs": [],
   "source": [
    "nation = []\n",
    "for cap in caps:\n",
    "    entry = postcodes.loc[postcodes.postcode.apply(lambda x: cap.startswith(x))]\n",
    "    if len(entry.region.values) > 0:\n",
    "        s = entry.region.values[0]\n",
    "        if s not in [\"Scotland\", \"Northern Ireland\", \"Wales\"] and s != None:\n",
    "            s = \"England\"\n",
    "        nation.append(s)\n",
    "print(\"Filtro CAP non presenti in csv (potrebbero essere NaN, per questo non sono presenti): \", len(nation))"
   ]
  },
  {
   "cell_type": "code",
   "execution_count": null,
   "id": "07e31bbb",
   "metadata": {},
   "outputs": [],
   "source": [
    "n_companies_by_nation = {}\n",
    "res = []\n",
    "[res.append(x) for x in nation if x not in res]\n",
    "for c in res:\n",
    "    n_companies_by_nation[c] = nation.count(c)"
   ]
  },
  {
   "cell_type": "code",
   "execution_count": null,
   "id": "96579e08",
   "metadata": {},
   "outputs": [],
   "source": [
    "fp = \"..\\\\Mappe\\\\\" + dataset_name + \"\\\\UK\\\\uk.shp\"\n",
    "map_df = gpd.read_file(fp)\n",
    "map_df[\"n_companies\"] = np.nan\n",
    "for i, row in map_df.iterrows():\n",
    "    if row[2] in n_companies_by_nation:\n",
    "        map_df.at[i, 'n_companies'] = n_companies_by_nation[row[2]]\n",
    "map_df"
   ]
  },
  {
   "cell_type": "code",
   "execution_count": null,
   "id": "b6ebec85",
   "metadata": {},
   "outputs": [],
   "source": [
    "fn.map_plot(map_df, \"n_companies\", \"ctry18nm\", \"geometry\", 10, \"Numero di aziende per nazione\", make_path(dataset_name, \"uk\"))"
   ]
  },
  {
   "cell_type": "markdown",
   "id": "67d92284",
   "metadata": {},
   "source": [
    "##### Regioni inghilterra"
   ]
  },
  {
   "cell_type": "code",
   "execution_count": null,
   "id": "1db337fd",
   "metadata": {},
   "outputs": [],
   "source": [
    "region = []\n",
    "for cap in caps:\n",
    "    entry = postcodes.loc[postcodes.postcode.apply(lambda x: cap.startswith(x))]\n",
    "    if len(entry.region.values) > 0:\n",
    "        region.append(entry.region.values[0])\n",
    "print(\"Filtro CAP non presenti in csv: \", len(region))"
   ]
  },
  {
   "cell_type": "code",
   "execution_count": null,
   "id": "e725a65a",
   "metadata": {},
   "outputs": [],
   "source": [
    "n_companies_by_region = {}\n",
    "res = []\n",
    "[res.append(x) for x in region if x not in res]\n",
    "for c in res:\n",
    "    n_companies_by_region[c] = region.count(c)"
   ]
  },
  {
   "cell_type": "code",
   "execution_count": null,
   "id": "95866eef",
   "metadata": {},
   "outputs": [],
   "source": [
    "fp = \"..\\\\Mappe\\\\\" + dataset_name + \"\\\\Inghilterra\\\\inghilterra.shp\"\n",
    "map_df = gpd.read_file(fp)\n",
    "map_df[\"n_companies\"] = np.nan\n",
    "for i, row in map_df.iterrows():\n",
    "    if row[2] in n_companies_by_region:\n",
    "        map_df.at[i, 'n_companies'] = n_companies_by_region[row[2]]\n",
    "map_df"
   ]
  },
  {
   "cell_type": "code",
   "execution_count": null,
   "id": "88d68046",
   "metadata": {},
   "outputs": [],
   "source": [
    "fn.map_plot(map_df, \"n_companies\", \"rgn17nm\", \"geometry\", 10,\"Numero di aziende per regione\", make_path(dataset_name, \"inghilterra\"))"
   ]
  },
  {
   "cell_type": "markdown",
   "id": "c94dff51",
   "metadata": {},
   "source": [
    "# Estrazione prestazioni"
   ]
  },
  {
   "cell_type": "code",
   "execution_count": null,
   "id": "fe194016",
   "metadata": {},
   "outputs": [],
   "source": [
    "# Tempo totale di esecuzione 1: 231.700044631958 (secondi), 420 entry\n",
    "# Tempo totale di esecuzione 2: 231.72814297676086 (secondi), 440 entry\n",
    "# Tempo totale di esecuzione 4: 250.68748903274536 (secondi), 420 entry"
   ]
  },
  {
   "cell_type": "code",
   "execution_count": null,
   "id": "29605878",
   "metadata": {},
   "outputs": [],
   "source": [
    "df_time.head()"
   ]
  },
  {
   "cell_type": "code",
   "execution_count": null,
   "id": "43b95926",
   "metadata": {},
   "outputs": [],
   "source": [
    "df_time.describe()"
   ]
  },
  {
   "cell_type": "code",
   "execution_count": null,
   "id": "c304cd42",
   "metadata": {},
   "outputs": [],
   "source": [
    "new_df_time = df_time.describe()\n",
    "del new_df_time[\"Tempo richiesta\"]"
   ]
  },
  {
   "cell_type": "code",
   "execution_count": null,
   "id": "d7d59e52",
   "metadata": {},
   "outputs": [],
   "source": [
    "keys = [\"Tempo richiesta\", \"Tempo estrazione dettagli\"]\n",
    "values = [df_time.describe()[\"Tempo richiesta\"][\"mean\"], new_df_time.sum(axis=\"columns\")[\"mean\"]]\n",
    "values = np.array(values) * 1000\n",
    "title = \"Confronto tempo medio (ms) request vs tempo medio (ms) estrazione dettagli\"\n",
    "file_name = \"\".join(title.lower()).replace(\" \", \"_\")\n",
    "dim = (7,4)\n",
    "fn.bar_plot(keys, values, title, make_path(dataset_name, file_name, \"tempi\\\\\"), dim, True)"
   ]
  },
  {
   "cell_type": "code",
   "execution_count": null,
   "id": "9162e4cb",
   "metadata": {},
   "outputs": [],
   "source": [
    "keys = list(new_df_time.loc[\"mean\"].keys())\n",
    "values = list(new_df_time.loc[\"mean\"])\n",
    "values = np.array(values) * 1000000\n",
    "title = \"Tempi medi (\\u03BCs) di estrazione dei valori (solo xpath)\"\n",
    "file_name = \"\".join(title.lower()).replace(\" \", \"_\")\n",
    "dim = (10,4)\n",
    "fn.bar_plot(keys, values, title, make_path(dataset_name, file_name, \"tempi\\\\\"), dim, True)"
   ]
  },
  {
   "cell_type": "code",
   "execution_count": null,
   "id": "88a19be4",
   "metadata": {},
   "outputs": [],
   "source": [
    "keys = list(new_df_time.loc[\"max\"].keys())\n",
    "values = list(new_df_time.loc[\"max\"])\n",
    "values = np.array(values) * 1000\n",
    "title = \"Tempo massimo (ms) di estrazione dei valori (solo xpath)\"\n",
    "file_name = \"\".join(title.lower()).replace(\" \", \"_\")\n",
    "dim = (10,4)\n",
    "fn.bar_plot(keys, values, title, make_path(dataset_name, file_name, \"tempi\\\\\"), dim, True)"
   ]
  },
  {
   "cell_type": "code",
   "execution_count": null,
   "id": "74a35fe5",
   "metadata": {},
   "outputs": [],
   "source": []
  }
 ],
 "metadata": {
  "kernelspec": {
   "display_name": "Python 3",
   "language": "python",
   "name": "python3"
  },
  "language_info": {
   "codemirror_mode": {
    "name": "ipython",
    "version": 3
   },
   "file_extension": ".py",
   "mimetype": "text/x-python",
   "name": "python",
   "nbconvert_exporter": "python",
   "pygments_lexer": "ipython3",
   "version": "3.8.8"
  }
 },
 "nbformat": 4,
 "nbformat_minor": 5
}

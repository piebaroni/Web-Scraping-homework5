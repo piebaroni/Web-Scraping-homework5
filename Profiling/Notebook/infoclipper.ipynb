{
 "cells": [
  {
   "cell_type": "markdown",
   "id": "5c2a6771",
   "metadata": {},
   "source": [
    "# Import librerie e definizione funzioni d'utilità"
   ]
  },
  {
   "cell_type": "code",
   "execution_count": null,
   "id": "e77b1bef",
   "metadata": {},
   "outputs": [],
   "source": [
    "import functions as fn"
   ]
  },
  {
   "cell_type": "code",
   "execution_count": null,
   "id": "5d9a3452",
   "metadata": {},
   "outputs": [],
   "source": [
    "import pandas as pd\n",
    "import numpy as np\n",
    "import os\n",
    "import geopandas as gpd"
   ]
  },
  {
   "cell_type": "code",
   "execution_count": null,
   "id": "c8e87b9a",
   "metadata": {},
   "outputs": [],
   "source": [
    "dataset_name = \"infoclipper\"\n",
    "if not os.path.exists(\"..\\\\Plot\"):\n",
    "    os.mkdir(\"..\\\\Plot\")\n",
    "if not os.path.exists(\"..\\\\Plot\\\\\" + dataset_name):\n",
    "    os.mkdir(\"..\\\\Plot\\\\\" + dataset_name)\n",
    "if not os.path.exists(\"..\\\\Plot\\\\\" + dataset_name + \"\\\\tempi\"):\n",
    "    os.mkdir(\"..\\\\Plot\\\\\" + dataset_name + \"\\\\tempi\")\n",
    "if not os.path.exists(\"..\\\\DatasetParsed\"):\n",
    "    os.mkdir(\"..\\\\DatasetParsed\")\n",
    "if not os.path.exists(\"..\\\\DatasetParsed\\\\\" + dataset_name):\n",
    "    os.mkdir(\"..\\\\DatasetParsed\\\\\" + dataset_name)"
   ]
  },
  {
   "cell_type": "code",
   "execution_count": null,
   "id": "8ae1ca42",
   "metadata": {},
   "outputs": [],
   "source": [
    "counter = 0\n",
    "def make_path(dataset, file_name, other = \"\"):\n",
    "    global counter\n",
    "    counter += 1\n",
    "    return \"..\\\\Plot\\\\\" + dataset + \"\\\\\" + other + str(counter) + \"-\" + file_name"
   ]
  },
  {
   "cell_type": "markdown",
   "id": "b212a857",
   "metadata": {},
   "source": [
    "# Estrazione dati tabella aziende"
   ]
  },
  {
   "cell_type": "code",
   "execution_count": null,
   "id": "8053036b",
   "metadata": {},
   "outputs": [],
   "source": [
    "dataset_ic = \"..\\\\Datasets\\\\\" + dataset_name + \"\\\\info-clipper-ds.csv\"\n",
    "df_ic = pd.read_csv(dataset_ic, encoding='cp1252')\n",
    "df_time = df_ic[[\"URL\", \"Request time\", \"tempo Estrazione Name\", \"tempo estrazione Trade Name\", \"tempo estrazione Address\", \"tempo estrazione City\", \"tempo estrazione State\", \"tempo estrazione Country\", \"tempo estrazione Location Type\"]]\n",
    "df_ic = df_ic[[\"URL\", \"ID\", \"Name\", \"Trade Name\", \"Address Name\", \"Postalcode\", \"City\", \"State\", \"Country\", \"Location type\"]]\n",
    "print(\"Numero entry tabella originale: \", len(df_ic))\n",
    "df_ic = df_ic.dropna(subset=[\"URL\"], axis=0)\n",
    "df_ic['ID'] = df_ic['ID'].astype('int')\n",
    "print(\"Filtro URL null: \", len(df_ic))"
   ]
  },
  {
   "cell_type": "code",
   "execution_count": null,
   "id": "91167c37",
   "metadata": {},
   "outputs": [],
   "source": [
    "df_ic.to_csv(\"..\\\\DatasetParsed\\\\\" + dataset_name + \"\\\\\" + dataset_name + \"-aziende.csv\", index=False)\n",
    "df_ic.head()"
   ]
  },
  {
   "cell_type": "code",
   "execution_count": null,
   "id": "3a9b3682",
   "metadata": {},
   "outputs": [],
   "source": [
    "info_dataset = fn.extract_data_from_df(df_ic)\n",
    "display(pd.DataFrame(info_dataset, index=[\"valore\"]).T)"
   ]
  },
  {
   "cell_type": "markdown",
   "id": "311a51e2",
   "metadata": {},
   "source": [
    "### Statistiche celle"
   ]
  },
  {
   "cell_type": "code",
   "execution_count": null,
   "id": "007ca6c5",
   "metadata": {},
   "outputs": [],
   "source": [
    "keys = [\"celle totali\", \"celle nulle\"]\n",
    "values = [\n",
    "    info_dataset[\"numero celle\"], \n",
    "    info_dataset[\"numero celle nulle\"]\n",
    "]\n",
    "title = \"Confronto numero celle totali e vuote\"\n",
    "file_name = \"\".join(title.lower()).replace(\" \", \"_\")\n",
    "dim = (7,4)\n",
    "fn.bar_plot(keys, values, title, make_path(dataset_name, file_name), dim)"
   ]
  },
  {
   "cell_type": "code",
   "execution_count": null,
   "id": "47396d86",
   "metadata": {},
   "outputs": [],
   "source": [
    "keys = [\"celle totali\", \"celle str\", \"celle float\", \"celle int\"]\n",
    "values = [\n",
    "    info_dataset[\"numero celle\"], \n",
    "    info_dataset[\"numero celle str\"],\n",
    "    info_dataset[\"numero celle float\"],\n",
    "    info_dataset[\"numero celle int\"]\n",
    "]\n",
    "title = \"Confronto tipo celle\"\n",
    "file_name = \"\".join(title.lower()).replace(\" \", \"_\")\n",
    "dim = (7,4)\n",
    "fn.bar_plot(keys, values, title, make_path(dataset_name, file_name), dim)"
   ]
  },
  {
   "cell_type": "markdown",
   "id": "4e7229d4",
   "metadata": {},
   "source": [
    "### Statistiche righe"
   ]
  },
  {
   "cell_type": "code",
   "execution_count": null,
   "id": "dd57c4bb",
   "metadata": {},
   "outputs": [],
   "source": [
    "keys = [\"righe totali\", \"righe con celle nulle\"]\n",
    "values = [\n",
    "    info_dataset[\"numero righe\"], \n",
    "    info_dataset[\"numero righe con celle nulle\"]\n",
    "]\n",
    "title = \"Confronto numero righe totali e nulle\"\n",
    "file_name = \"\".join(title.lower()).replace(\" \", \"_\")\n",
    "dim = (7,4)\n",
    "fn.bar_plot(keys, values, title, make_path(dataset_name, file_name), dim)"
   ]
  },
  {
   "cell_type": "markdown",
   "id": "7d9a52b0",
   "metadata": {},
   "source": [
    "### Statistiche colonne"
   ]
  },
  {
   "cell_type": "code",
   "execution_count": null,
   "id": "54a9106c",
   "metadata": {},
   "outputs": [],
   "source": [
    "keys = [\"colonne totali\", \"colonne con celle nulle\"]\n",
    "values = [\n",
    "    info_dataset[\"numero colonne\"], \n",
    "    info_dataset[\"numero colonne con celle nulle\"]\n",
    "]\n",
    "title = \"Confronto numero colonne totali e nulle\"\n",
    "file_name = \"\".join(title.lower()).replace(\" \", \"_\")\n",
    "dim = (7,4)\n",
    "fn.bar_plot(keys, values, title, make_path(dataset_name, file_name), dim)"
   ]
  },
  {
   "cell_type": "code",
   "execution_count": null,
   "id": "789ea57d",
   "metadata": {},
   "outputs": [],
   "source": [
    "keys = [\"colonne totali\", \"colonne str\", \"colonne float\", \"colonne int\"]\n",
    "values = [\n",
    "    info_dataset[\"numero colonne\"], \n",
    "    info_dataset[\"numero colonne str\"],\n",
    "    info_dataset[\"numero colonne float\"],\n",
    "    info_dataset[\"numero colonne int\"]\n",
    "]\n",
    "title = \"Confronto tipo colonne\"\n",
    "file_name = \"\".join(title.lower()).replace(\" \", \"_\")\n",
    "dim = (7,4)\n",
    "fn.bar_plot(keys, values, title, make_path(dataset_name, file_name), dim)"
   ]
  },
  {
   "cell_type": "code",
   "execution_count": null,
   "id": "68a24cdf",
   "metadata": {},
   "outputs": [],
   "source": [
    "different_value_columns = {}\n",
    "for key in df_ic:\n",
    "    different_value_columns[key] = [len(pd.unique(df_ic[key])), df_ic[key].isnull().sum()]\n",
    "different_value_columns = dict(sorted(different_value_columns.items(), key=lambda item: item[1], reverse=True))"
   ]
  },
  {
   "cell_type": "code",
   "execution_count": null,
   "id": "1a44a82e",
   "metadata": {},
   "outputs": [],
   "source": [
    "keys = different_value_columns.keys()\n",
    "values = [item[0] for item in different_value_columns.values()]\n",
    "title = \"Numero di valori distinti per colonna\"\n",
    "file_name = \"\".join(title.lower()).replace(\" \", \"_\")\n",
    "dim = (8,4)\n",
    "fn.bar_plot(keys, values, title, make_path(dataset_name, file_name), dim, True, info_dataset[\"numero righe\"])"
   ]
  },
  {
   "cell_type": "code",
   "execution_count": null,
   "id": "67422867",
   "metadata": {},
   "outputs": [],
   "source": [
    "keys = different_value_columns.keys()\n",
    "values = [item[1] for item in different_value_columns.values()]\n",
    "title = \"Numero di valori nulli per colonna\"\n",
    "file_name = \"\".join(title.lower()).replace(\" \", \"_\")\n",
    "dim = (8,4)\n",
    "fn.bar_plot(keys, values, title, make_path(dataset_name, file_name), dim, True, info_dataset[\"numero righe\"])"
   ]
  },
  {
   "cell_type": "markdown",
   "id": "06a9f47e",
   "metadata": {},
   "source": [
    "### Plot su mappe geografiche"
   ]
  },
  {
   "cell_type": "code",
   "execution_count": null,
   "id": "512d7201",
   "metadata": {},
   "outputs": [],
   "source": [
    "df_us = df_ic[df_ic[\"Country\"] == \"UNITED STATES\"]\n",
    "df_uk = df_ic[df_ic[\"Country\"] == \"UNITED KINGDOM\"]\n",
    "df_it = df_ic[df_ic[\"Country\"] == \"ITALY\"]\n",
    "df_es = df_ic[df_ic[\"Country\"] == \"ESTONIA\"]"
   ]
  },
  {
   "cell_type": "markdown",
   "id": "c034470f",
   "metadata": {},
   "source": [
    "##### Stati Uniti d'America"
   ]
  },
  {
   "cell_type": "code",
   "execution_count": null,
   "id": "25533142",
   "metadata": {},
   "outputs": [],
   "source": [
    "def clear_state(x):\n",
    "    return x.split(\"(\")[0]\n",
    "df_us[\"State\"] = df_us[\"State\"].apply(clear_state)"
   ]
  },
  {
   "cell_type": "code",
   "execution_count": null,
   "id": "643bf038",
   "metadata": {},
   "outputs": [],
   "source": [
    "dict_of_nation = {}\n",
    "nation = list(df_us[\"State\"])\n",
    "for n in nation:\n",
    "    dict_of_nation[n] = nation.count(n)"
   ]
  },
  {
   "cell_type": "code",
   "execution_count": null,
   "id": "8dca2a5e",
   "metadata": {},
   "outputs": [],
   "source": [
    "fp = \"..\\\\Mappe\\\\\" + dataset_name + \"\\\\USA\\\\usa.shp\"\n",
    "map_df = gpd.read_file(fp)\n",
    "map_df[\"n_companies\"] = np.nan\n",
    "for i, row in map_df.iterrows():\n",
    "    if row[5] in dict_of_nation:\n",
    "        map_df.at[i, 'n_companies'] = dict_of_nation[row[5]]\n",
    "    else:\n",
    "        map_df.at[i, 'n_companies'] = 0\n",
    "map_df = map_df[map_df.NAME != \"Alaska\"]\n",
    "map_df = map_df[map_df.NAME != \"Hawaii\"]\n",
    "map_df = map_df[map_df.NAME != \"Puerto Rico\"]\n",
    "map_df = map_df[map_df.NAME != \"American Samoa\"]\n",
    "map_df = map_df[map_df.NAME != \"United States Virgin Islands\"]\n",
    "map_df = map_df[map_df.NAME != \"Guam\"]\n",
    "map_df = map_df[map_df.NAME != \"Commonwealth of the Northern Mariana Islands\"]\n",
    "map_df.head()"
   ]
  },
  {
   "cell_type": "code",
   "execution_count": null,
   "id": "467ca6e0",
   "metadata": {},
   "outputs": [],
   "source": [
    "fn.map_plot(map_df, \"n_companies\", \"STUSPS\", \"geometry\", 10,\"Numero di aziende per stato\", make_path(dataset_name, \"usa\"))"
   ]
  },
  {
   "cell_type": "markdown",
   "id": "1bf60d86",
   "metadata": {},
   "source": [
    "##### Inghilterra"
   ]
  },
  {
   "cell_type": "code",
   "execution_count": null,
   "id": "4d63ce0a",
   "metadata": {},
   "outputs": [],
   "source": [
    "file_postcodes = \"..\\\\CAP\\\\\" + dataset_name + \"\\\\postcodes.csv\"\n",
    "postcodes = pd.read_csv(file_postcodes)\n",
    "postcodes = postcodes[['Postcode', 'UK region']]\n",
    "postcodes = postcodes.rename(columns={\"Postcode\": \"postcode\", \"UK region\": \"region\"})"
   ]
  },
  {
   "cell_type": "code",
   "execution_count": null,
   "id": "6738bfa3",
   "metadata": {},
   "outputs": [],
   "source": [
    "caps = list(df_uk[\"Postalcode\"])\n",
    "region = []\n",
    "for cap in caps:\n",
    "    entry = postcodes.loc[postcodes.postcode.apply(lambda x: cap.strip().startswith(x))]\n",
    "    if len(entry.region.values) > 0:\n",
    "        region.append(entry.region.values[0])"
   ]
  },
  {
   "cell_type": "code",
   "execution_count": null,
   "id": "87e2172b",
   "metadata": {},
   "outputs": [],
   "source": [
    "n_companies_by_region = {}\n",
    "res = []\n",
    "[res.append(x) for x in region if x not in res]\n",
    "for c in res:\n",
    "    n_companies_by_region[c] = region.count(c)"
   ]
  },
  {
   "cell_type": "code",
   "execution_count": null,
   "id": "d6f74bc9",
   "metadata": {},
   "outputs": [],
   "source": [
    "fp = \"..\\\\Mappe\\\\\" + dataset_name + \"\\\\Inghilterra\\\\inghilterra.shp\"\n",
    "map_df = gpd.read_file(fp)\n",
    "map_df[\"n_companies\"] = np.nan\n",
    "for i, row in map_df.iterrows():\n",
    "    if row[2] in n_companies_by_region:\n",
    "        map_df.at[i, 'n_companies'] = n_companies_by_region[row[2]]\n",
    "map_df.head()"
   ]
  },
  {
   "cell_type": "code",
   "execution_count": null,
   "id": "061891f6",
   "metadata": {},
   "outputs": [],
   "source": [
    "fn.map_plot(map_df, \"n_companies\", \"rgn17nm\", \"geometry\", 10,\"Numero di aziende per regione\", make_path(dataset_name, \"inghilterra\"))"
   ]
  },
  {
   "cell_type": "markdown",
   "id": "162729f3",
   "metadata": {},
   "source": [
    "##### Italia"
   ]
  },
  {
   "cell_type": "code",
   "execution_count": null,
   "id": "93d8b31d",
   "metadata": {},
   "outputs": [],
   "source": [
    "file_postcodes = \"..\\\\CAP\\\\\" + dataset_name + \"\\\\codici_postali_ITALIA.csv\"\n",
    "postcodes = pd.read_csv(file_postcodes, encoding='cp1252')"
   ]
  },
  {
   "cell_type": "code",
   "execution_count": null,
   "id": "5e8e94ef",
   "metadata": {},
   "outputs": [],
   "source": [
    "caps = list(df_it[\"Postalcode\"])\n",
    "region = []\n",
    "for cap in caps:\n",
    "    entry1 = postcodes.loc[postcodes.CAP1.apply(lambda x: x <= int(cap))]\n",
    "    entry2 = postcodes.loc[postcodes.CAP2.apply(lambda x: x >= int(cap))]\n",
    "    int_df = pd.merge(entry1, entry2, how ='inner')\n",
    "    if len(int_df.Regione.values) > 0:\n",
    "        region.append(int_df.Regione.values[0])"
   ]
  },
  {
   "cell_type": "code",
   "execution_count": null,
   "id": "b5401ff9",
   "metadata": {},
   "outputs": [],
   "source": [
    "n_companies_by_region = {}\n",
    "res = []\n",
    "[res.append(x) for x in region if x not in res]\n",
    "for c in res:\n",
    "    n_companies_by_region[c] = region.count(c)"
   ]
  },
  {
   "cell_type": "code",
   "execution_count": null,
   "id": "20c7741c",
   "metadata": {},
   "outputs": [],
   "source": [
    "fp = \"..\\\\Mappe\\\\\" + dataset_name + \"\\\\Italia\\\\italia.shp\"\n",
    "map_df = gpd.read_file(fp)\n",
    "map_df.at[1, \"NAME_1\"] = \"Puglia\"\n",
    "map_df.at[14, \"NAME_1\"] = \"Sicilia\"\n",
    "map_df[\"n_companies\"] = np.nan\n",
    "for i, row in map_df.iterrows():\n",
    "    if row[4] in n_companies_by_region:\n",
    "        map_df.at[i, 'n_companies'] = n_companies_by_region[row[4]]\n",
    "map_df.head()"
   ]
  },
  {
   "cell_type": "code",
   "execution_count": null,
   "id": "0f12ec14",
   "metadata": {},
   "outputs": [],
   "source": [
    "fn.map_plot(map_df, \"n_companies\", \"NAME_1\", \"geometry\", 10,\"Numero di aziende per regione\", make_path(dataset_name, \"nazioniUK\"))"
   ]
  },
  {
   "cell_type": "markdown",
   "id": "0f3ffd6a",
   "metadata": {},
   "source": [
    "##### Estonia"
   ]
  },
  {
   "cell_type": "code",
   "execution_count": null,
   "id": "22f0cd5f",
   "metadata": {},
   "outputs": [],
   "source": [
    "file_postcodes = \"..\\\\CAP\\\\\" + dataset_name + \"\\\\codici_postali_ESTONIA.csv\"\n",
    "postcodes = pd.read_csv(file_postcodes, encoding='cp1252')"
   ]
  },
  {
   "cell_type": "code",
   "execution_count": null,
   "id": "403634df",
   "metadata": {},
   "outputs": [],
   "source": [
    "caps = [x.strip() for x in list(df_es[\"Postalcode\"]) if x != \" \"]\n",
    "region = []\n",
    "for cap in caps:\n",
    "    entry1 = postcodes.loc[postcodes.CAP1.apply(lambda x: x <= int(cap))]\n",
    "    entry2 = postcodes.loc[postcodes.CAP2.apply(lambda x: x >= int(cap))]\n",
    "    int_df = pd.merge(entry1, entry2, how ='inner')\n",
    "    if len(int_df.Regione.values) > 0:\n",
    "        region.append(int_df.Regione.values[0])"
   ]
  },
  {
   "cell_type": "code",
   "execution_count": null,
   "id": "eaec3d12",
   "metadata": {},
   "outputs": [],
   "source": [
    "n_companies_by_region = {}\n",
    "res = []\n",
    "[res.append(x) for x in region if x not in res]\n",
    "for c in res:\n",
    "    n_companies_by_region[c] = region.count(c)"
   ]
  },
  {
   "cell_type": "code",
   "execution_count": null,
   "id": "b5e09393",
   "metadata": {},
   "outputs": [],
   "source": [
    "fp = \"..\\\\Mappe\\\\\" + dataset_name + \"\\\\Estonia\\\\estonia.shp\"\n",
    "map_df = gpd.read_file(fp)\n",
    "map_df[\"n_companies\"] = np.nan\n",
    "map_df[\"MNIMI\"] = map_df[\"MNIMI\"].apply(lambda x: x.split(\" \")[0])\n",
    "for i, row in map_df.iterrows():\n",
    "    if row[0] in n_companies_by_region:\n",
    "        map_df.at[i, 'n_companies'] = n_companies_by_region[row[0]]\n",
    "map_df.head()"
   ]
  },
  {
   "cell_type": "code",
   "execution_count": null,
   "id": "a1effd26",
   "metadata": {},
   "outputs": [],
   "source": [
    "fn.map_plot(map_df, \"n_companies\", \"MNIMI\", \"geometry\", 10,\"Numero di aziende per contea\", make_path(dataset_name, \"contee_estonia\"))"
   ]
  },
  {
   "cell_type": "markdown",
   "id": "08e9821e",
   "metadata": {},
   "source": [
    "# Estrazione prestazioni"
   ]
  },
  {
   "cell_type": "code",
   "execution_count": null,
   "id": "fab1fc82",
   "metadata": {},
   "outputs": [],
   "source": [
    "# Tempo totale di esecuzione 1: 231.700044631958 (secondi), 420 entry\n",
    "# Tempo totale di esecuzione 2: 231.72814297676086 (secondi), 440 entry\n",
    "# Tempo totale di esecuzione 4: 250.68748903274536 (secondi), 420 entry"
   ]
  },
  {
   "cell_type": "code",
   "execution_count": null,
   "id": "e786573f",
   "metadata": {},
   "outputs": [],
   "source": [
    "df_time.head()"
   ]
  },
  {
   "cell_type": "code",
   "execution_count": null,
   "id": "ed11c0a8",
   "metadata": {},
   "outputs": [],
   "source": [
    "new_df_time = df_time.describe()\n",
    "del new_df_time[\"Request time\"]"
   ]
  },
  {
   "cell_type": "code",
   "execution_count": null,
   "id": "08772b2c",
   "metadata": {},
   "outputs": [],
   "source": [
    "keys = [\"Tempo richiesta\", \"Tempo estrazione dettagli\"]\n",
    "values = [df_time.describe()[\"Request time\"][\"mean\"], new_df_time.sum(axis=\"columns\")[\"mean\"]]\n",
    "values = np.array(values) * 1000\n",
    "title = \"Confronto tempo medio (ms) request vs tempo medio (ms) estrazione dettagli\"\n",
    "file_name = \"\".join(title.lower()).replace(\" \", \"_\")\n",
    "dim = (7,4)\n",
    "fn.bar_plot(keys, values, title, make_path(dataset_name, file_name, \"tempi\\\\\"), dim, True)"
   ]
  },
  {
   "cell_type": "code",
   "execution_count": null,
   "id": "32cd8b35",
   "metadata": {},
   "outputs": [],
   "source": [
    "keys = list(new_df_time.loc[\"mean\"].keys())\n",
    "values = list(new_df_time.loc[\"mean\"])\n",
    "values = np.array(values) * 1000000\n",
    "title = \"Tempi medi (\\u03BCs) di estrazione dei valori (solo xpath)\"\n",
    "file_name = \"\".join(title.lower()).replace(\" \", \"_\")\n",
    "dim = (10,4)\n",
    "fn.bar_plot(keys, values, title, make_path(dataset_name, file_name, \"tempi\\\\\"), dim, True)"
   ]
  },
  {
   "cell_type": "code",
   "execution_count": null,
   "id": "f85595df",
   "metadata": {},
   "outputs": [],
   "source": [
    "keys = list(new_df_time.loc[\"max\"].keys())\n",
    "values = list(new_df_time.loc[\"max\"])\n",
    "values = np.array(values) * 1000\n",
    "title = \"Tempo massimo (ms) di estrazione dei valori (solo xpath)\"\n",
    "file_name = \"\".join(title.lower()).replace(\" \", \"_\")\n",
    "dim = (10,4)\n",
    "fn.bar_plot(keys, values, title, make_path(dataset_name, file_name, \"tempi\\\\\"), dim, True)"
   ]
  },
  {
   "cell_type": "code",
   "execution_count": null,
   "id": "626502ee",
   "metadata": {},
   "outputs": [],
   "source": []
  }
 ],
 "metadata": {
  "kernelspec": {
   "display_name": "Python 3",
   "language": "python",
   "name": "python3"
  },
  "language_info": {
   "codemirror_mode": {
    "name": "ipython",
    "version": 3
   },
   "file_extension": ".py",
   "mimetype": "text/x-python",
   "name": "python",
   "nbconvert_exporter": "python",
   "pygments_lexer": "ipython3",
   "version": "3.8.8"
  }
 },
 "nbformat": 4,
 "nbformat_minor": 5
}
